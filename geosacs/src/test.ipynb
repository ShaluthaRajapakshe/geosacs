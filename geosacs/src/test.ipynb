{
 "cells": [
  {
   "cell_type": "code",
   "execution_count": 1,
   "metadata": {},
   "outputs": [],
   "source": [
    "import numpy as np\n",
    "from scipy.spatial.transform import Rotation "
   ]
  },
  {
   "cell_type": "markdown",
   "metadata": {},
   "source": []
  },
  {
   "cell_type": "code",
   "execution_count": 5,
   "metadata": {},
   "outputs": [
    {
     "data": {
      "text/plain": [
       "-1"
      ]
     },
     "execution_count": 5,
     "metadata": {},
     "output_type": "execute_result"
    }
   ],
   "source": [
    "joy_y = [0,1,0]\n",
    "correction_x = [1,-1,0]\n",
    "\n",
    "alignment = np.dot(correction_x, joy_y)\n",
    "sign = np.sign(alignment)\n",
    "sign"
   ]
  },
  {
   "cell_type": "code",
   "execution_count": null,
   "metadata": {},
   "outputs": [],
   "source": []
  },
  {
   "cell_type": "code",
   "execution_count": 2,
   "metadata": {},
   "outputs": [
    {
     "data": {
      "text/plain": [
       "array([[-0.33333333, -0.66666667,  0.66666667],\n",
       "       [ 0.66666667,  0.33333333,  0.66666667],\n",
       "       [-0.66666667,  0.66666667,  0.33333333]])"
      ]
     },
     "execution_count": 2,
     "metadata": {},
     "output_type": "execute_result"
    }
   ],
   "source": [
    "R_b = Rotation.from_quat([0, 1, 1, 1]).as_matrix()\n",
    "R_b"
   ]
  },
  {
   "cell_type": "code",
   "execution_count": 3,
   "metadata": {},
   "outputs": [],
   "source": [
    "angle = 1.57\n",
    "R_ab = np.array([[np.cos(angle), -np.sin(angle), 0],\n",
    "                         [np.sin(angle), np.cos(angle) , 0],\n",
    "                         [0            , 0             , 1]])"
   ]
  },
  {
   "cell_type": "code",
   "execution_count": 4,
   "metadata": {},
   "outputs": [
    {
     "data": {
      "text/plain": [
       "array([-4.08085709e-01,  4.08410808e-01,  8.16496516e-01,  3.25099044e-04])"
      ]
     },
     "execution_count": 4,
     "metadata": {},
     "output_type": "execute_result"
    }
   ],
   "source": [
    "R_a = np.dot(R_ab, R_b)\n",
    "q_a = Rotation.from_matrix(R_a).as_quat()\n",
    "q_a"
   ]
  },
  {
   "cell_type": "code",
   "execution_count": 5,
   "metadata": {},
   "outputs": [],
   "source": [
    "def quaternion_to_euler(quaternion):\n",
    "        \n",
    "        # Create a Rotation object from the quaternion\n",
    "        r = Rotation.from_quat(quaternion)\n",
    "        \n",
    "        # Convert Rotation object to Euler angles (roll, pitch, yaw)\n",
    "        euler_angles = r.as_euler('xyz')  # Specify 'xyz' order for yaw, pitch, roll\n",
    "        \n",
    "        return euler_angles\n"
   ]
  },
  {
   "cell_type": "code",
   "execution_count": 6,
   "metadata": {},
   "outputs": [
    {
     "name": "stdout",
     "output_type": "stream",
     "text": [
      "Euler angles (roll, pitch, yaw) in radians: [1.57079633 0.         0.        ]\n"
     ]
    }
   ],
   "source": [
    "quaternion = [0.7071, 0.0, 0.0, 0.7071]  # Example quaternion [w, x, y, z]\n",
    "euler_angles = quaternion_to_euler(quaternion)\n",
    "print(\"Euler angles (roll, pitch, yaw) in radians:\", euler_angles)"
   ]
  },
  {
   "cell_type": "code",
   "execution_count": 7,
   "metadata": {},
   "outputs": [
    {
     "name": "stdout",
     "output_type": "stream",
     "text": [
      "False\n"
     ]
    }
   ],
   "source": [
    "import os\n",
    "\n",
    "data_dir = \"/home/shalutha/TLGC_data/iros_demo1\"\n",
    "model_dir = data_dir +f\"/model\"\n",
    "\n",
    "items = os.listdir(model_dir)\n",
    "        \n",
    "\n",
    "filename = model_dir + f\"/{items[0]}\"\n",
    "model = np.load(filename)\n",
    "\n",
    "print(model[\"vertical_start\"])"
   ]
  },
  {
   "cell_type": "code",
   "execution_count": 8,
   "metadata": {},
   "outputs": [
    {
     "name": "stdout",
     "output_type": "stream",
     "text": [
      "4\n",
      "3\n",
      "2\n",
      "1\n"
     ]
    }
   ],
   "source": [
    "for i in range (4,0,-1):\n",
    "    print (i)"
   ]
  },
  {
   "cell_type": "code",
   "execution_count": 9,
   "metadata": {},
   "outputs": [
    {
     "name": "stdout",
     "output_type": "stream",
     "text": [
      "0\n",
      "1\n",
      "2\n",
      "3\n",
      "4\n",
      "5\n",
      "Finally finished!\n"
     ]
    }
   ],
   "source": [
    "for x in range(6):\n",
    "  if x == 7: \n",
    "    break\n",
    "  print(x)\n",
    "else:\n",
    "  print(\"Finally finished!\")"
   ]
  },
  {
   "cell_type": "code",
   "execution_count": 10,
   "metadata": {},
   "outputs": [
    {
     "data": {
      "text/plain": [
       "5.0"
      ]
     },
     "execution_count": 10,
     "metadata": {},
     "output_type": "execute_result"
    }
   ],
   "source": [
    "a = np.sqrt(4**2 + 3**2)\n",
    "a"
   ]
  },
  {
   "cell_type": "code",
   "execution_count": 11,
   "metadata": {},
   "outputs": [],
   "source": [
    "a = []\n",
    "\n",
    "for i in a:\n",
    "    print(\"a\")"
   ]
  },
  {
   "cell_type": "code",
   "execution_count": 12,
   "metadata": {},
   "outputs": [
    {
     "data": {
      "text/plain": [
       "([1, 2, 3, 4],\n",
       " array([[1],\n",
       "        [2],\n",
       "        [3],\n",
       "        [4]]))"
      ]
     },
     "execution_count": 12,
     "metadata": {},
     "output_type": "execute_result"
    }
   ],
   "source": [
    "a = [1,2,3,4]\n",
    "b = np.vstack(a)\n",
    "a, b"
   ]
  },
  {
   "cell_type": "code",
   "execution_count": 13,
   "metadata": {},
   "outputs": [
    {
     "data": {
      "text/plain": [
       "array([ 1, 23,  3])"
      ]
     },
     "execution_count": 13,
     "metadata": {},
     "output_type": "execute_result"
    }
   ],
   "source": [
    "a = [1,23,3]\n",
    "b = np.array(a)\n",
    "b"
   ]
  },
  {
   "cell_type": "code",
   "execution_count": 18,
   "metadata": {},
   "outputs": [
    {
     "name": "stdout",
     "output_type": "stream",
     "text": [
      "Transformation Matrix:\n",
      " [[-1.93875900e-02 -9.99221770e-01]\n",
      " [ 8.70779838e-01  7.02332609e-06]]\n",
      "Movement along correction axes: [ 1.83229940e-04 -1.28788589e-09]\n"
     ]
    }
   ],
   "source": [
    "import numpy as np\n",
    "\n",
    "# Function to compute the 2x2 transformation matrix at point t\n",
    "def compute_transformation_matrix(a, b):\n",
    "    # We only consider the X and Y components for the joystick input mapping\n",
    "    a_xy = a\n",
    "    b_xy = b\n",
    "    \n",
    "    # Joystick frame unit vectors in 2D\n",
    "    i = np.array([0,1,0])\n",
    "    j = np.array([-1,0,0])\n",
    "\n",
    "    \n",
    "    # Construct the 2x2 transformation matrix T using dot products\n",
    "    T = np.array([\n",
    "        [np.dot(a_xy, i), np.dot(a_xy, j)],\n",
    "        [np.dot(b_xy, i), np.dot(b_xy, j)]\n",
    "    ])\n",
    "    \n",
    "    return T\n",
    "\n",
    "# Example correction axes in 3D\n",
    "# a = np.array([0.707, 0.707, 0])  # Example axis at 45 degrees in the X-Y plane\n",
    "# b = np.array([0, 0, 1])          # Vertical axis along Z\n",
    "a = np.array([ 0.99922177, -0.01938759,  0.03435075])\n",
    "b = np.array([-7.02332609e-06, 8.70779838e-01, 4.91673137e-01])\n",
    "\n",
    "# Compute the transformation matrix\n",
    "T = compute_transformation_matrix(a, b)\n",
    "print(\"Transformation Matrix:\\n\", T)\n",
    "\n",
    "# Function to map joystick inputs to correction axes movements\n",
    "def map_joystick_to_correction_axes(T, joystick_input):\n",
    "    u, v = joystick_input\n",
    "    # Compute the movements along correction axes\n",
    "    movement = np.dot(T, np.array([u, v]))\n",
    "    return movement\n",
    "\n",
    "# Example usage with 2D joystick input\n",
    "joystick_input = [0.0, -0.0001833726465702057]  # User pushes joystick to the right\n",
    "\n",
    "movement = map_joystick_to_correction_axes(T, joystick_input)\n",
    "print(\"Movement along correction axes:\", movement)\n"
   ]
  },
  {
   "cell_type": "code",
   "execution_count": null,
   "metadata": {},
   "outputs": [],
   "source": [
    "x and y after mult  [-0.  0. -0.] [ 1.28788589e-09 -1.59677203e-04 -9.01594045e-05]"
   ]
  },
  {
   "cell_type": "code",
   "execution_count": 31,
   "metadata": {},
   "outputs": [
    {
     "name": "stdout",
     "output_type": "stream",
     "text": [
      "Aligned Axis for Joystick X-axis: [ 1 -2  0]\n",
      "Aligned Axis for Joystick Y-axis: [-2 -1  0]\n",
      "Total Movement in 3D space: [2 1 0]\n"
     ]
    }
   ],
   "source": [
    "import numpy as np\n",
    "\n",
    "# Function to compute the dot product projections of joystick axes onto correction axes\n",
    "def compute_axis_projections(correction_axes, joy_x, joy_y):\n",
    "    # Project joystick X and Y axes onto correction axes\n",
    "    projections_x = [np.dot(joy_x, axis) for axis in correction_axes]\n",
    "    projections_y = [np.dot(joy_y, axis) for axis in correction_axes]\n",
    "    return projections_x, projections_y\n",
    "\n",
    "# Function to select the most aligned correction axis based on projections\n",
    "def select_aligned_axis(projections):\n",
    "    # Find the axis with the maximum absolute projection\n",
    "    max_index = np.argmax(np.abs(projections))\n",
    "    direction = np.sign(projections[max_index])\n",
    "    return max_index, direction\n",
    "\n",
    "# Example correction axes in 3D\n",
    "correction_axes = [\n",
    "    np.array([1, -2, 0]),  # Example axis at 45 degrees in the X-Y plane\n",
    "    np.array([-2, -1, 0])           # Vertical axis along Z\n",
    "]\n",
    "\n",
    "# Define the fixed joystick axes in the global frame\n",
    "joy_x = np.array([0, 1, 0])  # Joystick X-axis (global frame)\n",
    "joy_y = np.array([-1, 0, 0]) # Joystick Y-axis (global frame)\n",
    "\n",
    "# Compute the projections of the joystick axes onto the correction axes\n",
    "projections_x, projections_y = compute_axis_projections(correction_axes, joy_x, joy_y)\n",
    "# print(\"Projections on X-axis:\", projections_x)\n",
    "# print(\"Projections on Y-axis:\", projections_y)\n",
    "\n",
    "# Select the most aligned correction axis for joystick X-axis\n",
    "aligned_axis_index_x, direction_x = select_aligned_axis(projections_x)\n",
    "# print(\"Aligned Axis Index for Joystick X-axis:\", aligned_axis_index_x)\n",
    "# print(\"Direction for Joystick X-axis:\", direction_x)\n",
    "\n",
    "# Select the most aligned correction axis for joystick Y-axis\n",
    "aligned_axis_index_y, direction_y = select_aligned_axis(projections_y)\n",
    "# print(\"Aligned Axis Index for Joystick Y-axis:\", aligned_axis_index_y)\n",
    "# print(\"Direction for Joystick Y-axis:\", direction_y)\n",
    "\n",
    "# The most aligned correction axes\n",
    "aligned_axis_x = correction_axes[aligned_axis_index_x]\n",
    "aligned_axis_y = correction_axes[aligned_axis_index_y]\n",
    "print(\"Aligned Axis for Joystick X-axis:\", aligned_axis_x)\n",
    "print(\"Aligned Axis for Joystick Y-axis:\", aligned_axis_y)\n",
    "\n",
    "# Example movement magnitudes based on joystick input\n",
    "joystick_input = np.array([0, -1])  # Example diagonal movement\n",
    "\n",
    "# Determine the 3D movement based on the most aligned correction axes\n",
    "movement_x = direction_x * joystick_input[0] * aligned_axis_x\n",
    "movement_y = direction_y * joystick_input[1] * aligned_axis_y\n",
    "total_movement = movement_x + movement_y\n",
    "print(\"Total Movement in 3D space:\", total_movement)\n"
   ]
  },
  {
   "cell_type": "code",
   "execution_count": null,
   "metadata": {},
   "outputs": [],
   "source": [
    "correction_axes = [\n",
    "    np.array([1, 0, 0]),  # Example axis at 45 degrees in the X-Y plane\n",
    "    np.array([0, -1, 0])           # Vertical axis along Z\n",
    "]"
   ]
  },
  {
   "cell_type": "code",
   "execution_count": null,
   "metadata": {},
   "outputs": [],
   "source": [
    "### check the above code with examples\n",
    "\n",
    "## remember if the both axes becomes one then we have to ensure that for the other axis we will select the othe one"
   ]
  },
  {
   "cell_type": "code",
   "execution_count": 36,
   "metadata": {},
   "outputs": [],
   "source": [
    "    \n",
    "def project_onto_plane(v, normal):\n",
    "    # Normalize the normal vector to ensure it's a unit vector\n",
    "    normal_normalized = normal / np.linalg.norm(normal)\n",
    "    # Calculate the projection of v onto the plane defined by the normal\n",
    "    projection = v - np.dot(v, normal_normalized) * normal_normalized\n",
    "    return projection"
   ]
  },
  {
   "cell_type": "code",
   "execution_count": 34,
   "metadata": {},
   "outputs": [
    {
     "name": "stdout",
     "output_type": "stream",
     "text": [
      "Aligned Axis Index for Joystick Y-axis: 0\n",
      "Direction for Joystick Y-axis: -1\n",
      "Aligned Axis for Joystick X-axis: [0 1 0]\n",
      "Aligned Axis for Joystick Y-axis: [-1  0  0]\n",
      "Total Movement in 3D space: [0.006 0.006 0.   ]\n"
     ]
    }
   ],
   "source": [
    "import numpy as np\n",
    "\n",
    "# Function to compute the dot product projections of joystick axes onto correction axes\n",
    "def compute_axis_projections(correction_axes, joy_x, joy_y):\n",
    "    # Project joystick X and Y axes onto correction axes\n",
    "    projections_x = [np.dot(joy_x, axis) for axis in correction_axes]\n",
    "    projections_y = [np.dot(joy_y, axis) for axis in correction_axes]\n",
    "    return projections_x, projections_y\n",
    "\n",
    "# Function to select the most aligned correction axis based on projections\n",
    "def select_aligned_axis(projections):\n",
    "    # Find the axis with the maximum absolute projection\n",
    "    max_index = np.argmax(np.abs(projections))\n",
    "    direction = np.sign(projections[max_index])\n",
    "    return max_index, direction\n",
    "\n",
    "# Example correction axes in 3D\n",
    "# Example correction axes in 3D\n",
    "# correction_axes = [\n",
    "#     np.array([1, -2, 0]),  # Example axis at 45 degrees in the X-Y plane\n",
    "#     np.array([-2, -1, 0])           # Vertical axis along Z\n",
    "# ]\n",
    "\n",
    "correction_axes = [\n",
    "    np.array([1, 0, 0]),  # Example axis at 45 degrees in the X-Y plane\n",
    "    np.array([0, -1, 0])           # Vertical axis along Z\n",
    "]\n",
    "\n",
    "\n",
    "\n",
    "\n",
    "# Define the fixed joystick axes in the global frame\n",
    "joy_x = np.array([0, 1, 0])  # Joystick X-axis (global frame)\n",
    "joy_y = np.array([-1, 0, 0]) # Joystick Y-axis (global frame)\n",
    "\n",
    "# Compute the projections of the joystick axes onto the correction axes\n",
    "projections_x, projections_y = compute_axis_projections(correction_axes, joy_x, joy_y)\n",
    "\n",
    "# Select the most aligned correction axis for joystick X-axis\n",
    "aligned_axis_index_x, direction_x = select_aligned_axis(projections_x)\n",
    "\n",
    "\n",
    "# Select the most aligned correction axis for joystick Y-axis\n",
    "aligned_axis_index_y, direction_y = select_aligned_axis(projections_y)\n",
    "print(\"Aligned Axis Index for Joystick Y-axis:\", aligned_axis_index_y)\n",
    "print(\"Direction for Joystick Y-axis:\", direction_y)\n",
    "\n",
    "\n",
    "\n",
    "# The most aligned correction axes, invert if direction is negative\n",
    "aligned_axis_x = correction_axes[aligned_axis_index_x] * direction_x\n",
    "aligned_axis_y = correction_axes[aligned_axis_index_y] * direction_y\n",
    "print(\"Aligned Axis for Joystick X-axis:\", aligned_axis_x)\n",
    "print(\"Aligned Axis for Joystick Y-axis:\", aligned_axis_y)\n",
    "\n",
    "# Example movement magnitudes based on joystick input\n",
    "joystick_input = np.array([0.006, -0.006])  # Example diagonal movement\n",
    "\n",
    "# # Determine the 3D movement based on the most aligned correction axes\n",
    "# movement_x = joystick_input[0] * aligned_axis_x\n",
    "# movement_y = joystick_input[1] * aligned_axis_y\n",
    "# total_movement = movement_x + movement_y\n",
    "# print(\"Total Movement in 3D space:\", total_movement)\n"
   ]
  },
  {
   "cell_type": "code",
   "execution_count": null,
   "metadata": {},
   "outputs": [],
   "source": [
    "def vertical_check(self, eT, model):\n",
    "    \n",
    "    global_z = np.array([0, 0, 1])\n",
    "\n",
    "    z_diff = self.calculate_angle_between_vectors(eT, global_z)\n",
    "\n",
    "\n",
    "    if z_diff < 90:\n",
    "        if z_diff > 45:\n",
    "            return True\n",
    "        else:\n",
    "            return False\n",
    "    else:\n",
    "        if z_diff < 145:\n",
    "            return True\n",
    "        else:\n",
    "            return False"
   ]
  },
  {
   "cell_type": "code",
   "execution_count": 58,
   "metadata": {},
   "outputs": [
    {
     "name": "stdout",
     "output_type": "stream",
     "text": [
      "#### corr y got aligned with z\n",
      "original correction axes [0, -1, 0] [0, 0, 1]\n",
      "projected correction axes [ 0. -1.  0.] [0. 0. 0.]\n",
      "Aligned Axis for Joystick X-axis: [0, -1, 0]  Direction identifier -1.0\n",
      "Aligned Axis for Joystick Y-axis: [0 0 1]  Direction identifier 1.0\n"
     ]
    }
   ],
   "source": [
    "import numpy as np\n",
    "\n",
    "# Function to compute the dot product projections of joystick axes onto correction axes\n",
    "def compute_axis_projections(correction_axes, joy_x, joy_y):\n",
    "    # Project joystick X and Y axes onto correction axes\n",
    "    projections_x = [np.dot(joy_x, axis) for axis in correction_axes]\n",
    "    projections_y = [np.dot(joy_y, axis) for axis in correction_axes]\n",
    "    return projections_x, projections_y\n",
    "\n",
    "# Function to select the most aligned correction axis based on projections\n",
    "def select_aligned_axis(projections):\n",
    "    # Find the axis with the maximum absolute projection\n",
    "    max_index = np.argmax(np.abs(projections))\n",
    "    direction = np.sign(projections[max_index])\n",
    "    return max_index, direction\n",
    "\n",
    "# Example correction axes in 3D\n",
    "# Example correction axes in 3D\n",
    "# correction_axes = [\n",
    "#     np.array([1, -2, 0]),  # Example axis at 45 degrees in the X-Y plane\n",
    "#     np.array([-2, -1, 0])           # Vertical axis along Z\n",
    "# ]\n",
    "\n",
    "# Define the fixed joystick axes in the global frame ASSUMIN WE ARE IN FRONT\n",
    "\n",
    "joy_x = np.array([0, 1, 0])  # Joystick X-axis (global frame)\n",
    "joy_y = np.array([-1, 0, 0]) # Joystick Y-axis (global frame)\n",
    "\n",
    "\n",
    "correction_x = [0,-1,0]\n",
    "correction_y = [0,0,1]\n",
    "\n",
    "def map_input(correction_x, correction_y, joy_x, joy_y):\n",
    "\n",
    "    correction_axes = [\n",
    "        correction_x,  \n",
    "        correction_y            \n",
    "    ]\n",
    "\n",
    "    z  = np.array([0,0,1])\n",
    "\n",
    "    projected_corr_x = project_onto_plane(correction_axes[0], z ) \n",
    "    projected_corr_y = project_onto_plane(correction_axes[1], z ) \n",
    "\n",
    "\n",
    "    projected_corr_axes = np.array([projected_corr_x, projected_corr_y])\n",
    "\n",
    "\n",
    "    # Compute the projections of the joystick axes onto the correction axes\n",
    "    projections_x, projections_y = compute_axis_projections(projected_corr_axes, joy_x, joy_y)\n",
    "\n",
    "    # Select the most aligned correction axis for joystick X-axis\n",
    "    aligned_axis_index_x, direction_x = select_aligned_axis(projections_x)\n",
    "\n",
    "\n",
    "    # Select the most aligned correction axis for joystick Y-axis\n",
    "    aligned_axis_index_y, direction_y = select_aligned_axis(projections_y)\n",
    "\n",
    "# print(\"Aligned Axis Index for Joystick Y-axis:\", aligned_axis_index_y)\n",
    "# print(\"Direction for Joystick Y-axis:\", direction_y)\n",
    "\n",
    "\n",
    "\n",
    "    # The most aligned correction axes, invert if direction is negative\n",
    "    aligned_axis_x = correction_axes[aligned_axis_index_x] \n",
    "    aligned_axis_y = correction_axes[aligned_axis_index_y]\n",
    "\n",
    "    if (aligned_axis_x == projected_corr_x).all():\n",
    "        aligned_axis_x = correction_axes[0]\n",
    "        aligned_axis_y = correction_axes[1]\n",
    "    else:\n",
    "        aligned_axis_x = correction_axes[1]\n",
    "        aligned_axis_y = correction_axes[0]\n",
    "\n",
    "\n",
    "    ### HANDLING FOR WHEN A CORRECTION AXIS IS FULLY ALIGNED WITH Z ####\n",
    "    if (projected_corr_x ==np.array([0,0,0])).all():\n",
    "        print(\"#### corr x got aligned with z\")\n",
    "        aligned_axis_y = np.array([0,0,1])\n",
    "        direction_y = 1.0\n",
    "\n",
    "    if (projected_corr_y ==np.array([0,0,0])).all():\n",
    "        print(\"#### corr y got aligned with z\")\n",
    "        aligned_axis_y = np.array([0,0,1])\n",
    "        direction_y = 1.0\n",
    "\n",
    "\n",
    "    print(\"original correction axes\", correction_axes[0], correction_axes[1])\n",
    "    print(\"projected correction axes\", projected_corr_x, projected_corr_y)\n",
    "\n",
    "    print(\"Aligned Axis for Joystick X-axis:\", aligned_axis_x, \" Direction identifier\", direction_x)\n",
    "    print(\"Aligned Axis for Joystick Y-axis:\", aligned_axis_y,  \" Direction identifier\", direction_y)\n",
    "\n",
    "    return aligned_axis_x, aligned_axis_y, direction_x, direction_y\n",
    "\n",
    "\n",
    "aligned_axis_x, aligned_axis_y, direction_x, direction_y = map_input(correction_x, correction_y, joy_x, joy_y)\n",
    "\n",
    "# Example movement magnitudes based on joystick input\n",
    "joystick_input = np.array([0.006, -0.006])  # Example diagonal movement\n",
    "\n",
    "# # Determine the 3D movement based on the most aligned correction axes\n",
    "\n",
    "aligned_axis_x = np.array(aligned_axis_x)\n",
    "aligned_axis_y = np.array(aligned_axis_y)\n",
    "\n",
    "movement_x = joystick_input[0] * aligned_axis_x * direction_x\n",
    "movement_y = joystick_input[1] * aligned_axis_y * direction_y\n",
    "# total_movement = movement_x + movement_y\n",
    "# print(\"Total Movement in 3D space:\", total_movement)\n"
   ]
  },
  {
   "cell_type": "code",
   "execution_count": 47,
   "metadata": {},
   "outputs": [
    {
     "data": {
      "text/plain": [
       "array([0., 0., 0.])"
      ]
     },
     "execution_count": 47,
     "metadata": {},
     "output_type": "execute_result"
    }
   ],
   "source": [
    "v = project_onto_plane(np.array([0,0,1]), z ) \n",
    "v"
   ]
  },
  {
   "cell_type": "code",
   "execution_count": null,
   "metadata": {},
   "outputs": [],
   "source": []
  },
  {
   "cell_type": "code",
   "execution_count": null,
   "metadata": {},
   "outputs": [],
   "source": []
  },
  {
   "cell_type": "code",
   "execution_count": null,
   "metadata": {},
   "outputs": [],
   "source": [
    "def optimize_orientation(self, i, gc_circles, directrix, eT):\n",
    "\n",
    "    center2 = directrix[i+1]\n",
    "    center1 = directrix[i]  \n",
    "\n",
    "    normal2 = eT[i+1]\n",
    "    normal1 = eT[i]\n",
    "\n",
    "    # circle2 = gc_circles[i+1,:,:]\n",
    "    circle1 = gc_circles[i,:,:]\n",
    "\n",
    "    intersection_exist = False\n",
    "\n",
    "    for point in circle1:\n",
    "        vector_pointing_to_directrix = (point[0] - center2[0], point[1] - center2[1], point[2] - center2[2])\n",
    "        theta_val = self.calculate_angle_between_vectors(normal2, vector_pointing_to_directrix) #in degrees\n",
    "        if theta_val < 90: ##Intersection exist\n",
    "            print(\"intersection exist in\", i)\n",
    "            intersection_exist = True\n",
    "            break\n",
    "            ## check the current angle between the two planes/normal vector and the rotated normal\n",
    "            # angle_between_two_planes = self.relative_angle_between_planes(normal1, normal2)\n",
    "            # penalty = angle_between_two_planes\n",
    "            \n",
    "            \n",
    "\n",
    "    if intersection_exist:\n",
    "        initial_guess = self.relative_angle_between_planes(normal1, normal2)\n",
    "        # print(\"initial angle between\", i, \"and \", i+1, \" th cross sections\", initial_guess)\n",
    "        \n",
    "        initial_guess = initial_guess*0.1 #initially we will adjust 10% from the initial angle between the two planes\n",
    "        \n",
    "    \n",
    "        result = minimize(self.objective_function, initial_guess, args=(normal1, circle1, normal2, center2, i), bounds=[(-np.pi / 4, np.pi / 4)])\n",
    "\n",
    "        optimized_angle = result.x[0]\n",
    "        # print(\"the angle needed to rotate\", optimized_angle)\n",
    "        axis = np.cross(normal1, normal2)\n",
    "        optimized_normal2 = self.rodrigues_rotation(normal2, axis, optimized_angle)\n",
    "\n",
    "        angle_after_opt = self.relative_angle_between_planes(normal1, optimized_normal2)\n",
    "        # print(\"######### after opt angle between\", i, \"and \", i+1, \" th cross sections\", angle_after_opt)\n",
    "\n",
    "        return optimized_normal2\n",
    "    \n",
    "    else:\n",
    "        print(\"No intersection returning the previous normal\")\n",
    "        return normal2"
   ]
  },
  {
   "cell_type": "code",
   "execution_count": null,
   "metadata": {},
   "outputs": [],
   "source": []
  },
  {
   "cell_type": "code",
   "execution_count": null,
   "metadata": {},
   "outputs": [],
   "source": [
    "    def check_intersections_simple(self, circle1, center2, normal1, normal2, i):\n",
    "\n",
    "        for point in circle1:\n",
    "            \n",
    "            vector_pointing_to_directrix = (point[0] - center2[0], point[1] - center2[1], point[2] - center2[2])\n",
    "\n",
    "            theta_val = self.calculate_angle_between_vectors(normal2, vector_pointing_to_directrix) #in degrees\n",
    "\n",
    "            if theta_val < 90: ##Intersection exist\n",
    "\n",
    "                # print(\"intersection exist in\", i)\n",
    "\n",
    "                ## check the current angle between the two planes/normal vector and the rotated normal\n",
    "                angle_between_two_planes = self.relative_angle_between_planes(normal1, normal2)\n",
    "                penalty = angle_between_two_planes\n",
    "                return True, penalty\n",
    "\n",
    "        else:\n",
    "            # print(\"No intersection\")\n",
    "            return False, None"
   ]
  },
  {
   "cell_type": "code",
   "execution_count": null,
   "metadata": {},
   "outputs": [],
   "source": []
  },
  {
   "cell_type": "code",
   "execution_count": null,
   "metadata": {},
   "outputs": [],
   "source": []
  },
  {
   "cell_type": "code",
   "execution_count": null,
   "metadata": {},
   "outputs": [],
   "source": [
    "def optimize_orientation_scipy(self, i, gc_circles, directrix, eT):\n",
    "    center2 = directrix[i + 1]\n",
    "    normal2 = eT[i + 1]\n",
    "    normal1 = eT[i]\n",
    "    circle1 = gc_circles[i, :, :]\n",
    "\n",
    "    prev_unit_rotated_normal2 = None\n",
    "\n",
    "    initial_angle_between_two_planes = self.relative_angle_between_planes(normal1, normal2)\n",
    "\n",
    "    intersection_exist = self.check_intersections_geometric(circle1, center2, normal2)\n",
    "\n",
    "    init_in_degrees = np.degrees(initial_angle_between_two_planes)\n",
    "\n",
    "    if intersection_exist:\n",
    "        print(\"Geometric: Intersection exists in\", i, \"and\", i + 1, \"with the initial angle\", np.degrees(initial_angle_between_two_planes))\n",
    "        \n",
    "        def objective(angle):\n",
    "            axis = np.cross(normal2, normal1)\n",
    "            if np.linalg.norm(axis) == 0:\n",
    "                return prev_unit_rotated_normal2\n",
    "            \n",
    "            unit_axis = axis / np.linalg.norm(axis)\n",
    "\n",
    "            # angle = np.radians(init_in_degrees - angle) ##Not sure whether this is needed or nor\n",
    "\n",
    "            rotated_normal2 = self.rodrigues_rotation(normal2, unit_axis, np.radians(angle))\n",
    "            unit_rotated_normal2 = rotated_normal2 / np.linalg.norm(rotated_normal2)\n",
    "\n",
    "            new_angle = self.relative_angle_between_planes(normal1, rotated_normal2) #onl for debugging\n",
    "            print (\"New angle between the two planes\", np.degrees(new_angle))\n",
    "\n",
    "            intersection_exist_after_rotation = self.check_intersections_geometric(circle1, center2, unit_rotated_normal2)\n",
    "            \n",
    "            prev_unit_rotated_normal2 = unit_rotated_normal2\n",
    "\n",
    "            # return 0 if not intersection_exist_after_rotation else np.degrees(self.relative_angle_between_planes(normal1, unit_rotated_normal2))\n",
    "            if not intersection_exist_after_rotation:\n",
    "                return 0\n",
    "            \n",
    "            else:\n",
    "                return np.degrees(self.relative_angle_between_planes(normal1, unit_rotated_normal2))\n",
    "\n",
    "        result = minimize(objective, x0=np.degrees(initial_angle_between_two_planes), bounds=[(0, np.degrees(initial_angle_between_two_planes))])\n",
    "        \n",
    "        optimized_angle = result.x[0]\n",
    "        print(\"final angle\", optimized_angle, \"initial angle\", init_in_degrees) #check this and see whether the angle has been reduced\n",
    "        ## based on that decide whether to directly use this angle or reduce it from the initial angle like below\n",
    "        # optimized_angle = np.radians(init_in_degrees - optimized_angle) ##Not sure whether this is needed or not\n",
    "\n",
    "        axis = np.cross(normal2, normal1)\n",
    "        unit_axis = axis / np.linalg.norm(axis)\n",
    "        optimized_rotated_normal2 = self.rodrigues_rotation(normal2, unit_axis, np.radians(optimized_angle))\n",
    "        unit_rotated_normal2 = optimized_rotated_normal2 / np.linalg.norm(optimized_rotated_normal2)\n",
    "\n",
    "        if not self.check_intersections_geometric(circle1, center2, unit_rotated_normal2):\n",
    "            print(f\"Intersection resolved with optimized angle {optimized_angle} degrees\")\n",
    "            return unit_rotated_normal2\n",
    "        else:\n",
    "            print(\"############### couldn't find an angle without intersection at\", i, \"so returning the closest vector\")\n",
    "            return unit_rotated_normal2\n",
    "\n",
    "    print(\"No intersection, returning the previous normal\", i)\n",
    "    return normal2"
   ]
  },
  {
   "cell_type": "code",
   "execution_count": null,
   "metadata": {},
   "outputs": [],
   "source": []
  },
  {
   "cell_type": "code",
   "execution_count": null,
   "metadata": {},
   "outputs": [],
   "source": [
    "repro_trajectories = reproduce(s_model, numRepro, starting, initPoints, Ratio, crossSectionType, strategy, direction)\n",
    "trajectory_xyz = repro_trajectories[0]\n",
    "\n",
    "trajectory_q = s_model[\"q\"]\n",
    "self.clear_rviz_pub.publish(\"reproduced\")\n",
    "self.visualise_trajectory(trajectory_xyz, trajectory_q)\n",
    "\n",
    "nb_points = trajectory_xyz.shape[0]\n",
    "\n",
    "if self.physical_robot : self.myp_app_pub.publish(\"start\")\n",
    "PcurrG = trajectory_xyz[0,:]\n",
    "QcurrG = trajectory_q[0,:]\n",
    "q_weight = q_weights[0,:]\n",
    "\n",
    "self.pub_cmd_pose(PcurrG, QcurrG, q_weight)\n",
    "\n",
    "for i in range(nb_points):\n",
    "    PcurrG = trajectory_xyz[i,:]\n",
    "    QcurrG = trajectory_q[i,:]\n",
    "    q_weight = q_weights[i,:]\n",
    "    \n",
    "    self.pub_cmd_pose(PcurrG, QcurrG, q_weight)\n",
    "    AcurrG = PcurrG - model[\"directrix\"][current_idx,:]\n",
    "    Ratio = np.array([np.sqrt(AcurrG[0]**2 + AcurrG[1]**2 + AcurrG[2]**2) / model[\"Rc\"][current_idx]])\n",
    "    self.pub_surface_pose(i, current_idx, PcurrG, AcurrG, QcurrG, q_weight, Ratio, \"\")\n",
    "    # i designates the NEXT idx of the robot\n",
    "    if i != 0: current_idx += 1*direction # Designates the idx AT which the robot is located\n",
    "    self.rate.sleep()"
   ]
  },
  {
   "cell_type": "code",
   "execution_count": null,
   "metadata": {},
   "outputs": [],
   "source": []
  },
  {
   "cell_type": "code",
   "execution_count": null,
   "metadata": {},
   "outputs": [],
   "source": [
    "\n",
    "    def saturate_model_vertical(self, model): #Verticalizing the ends only for the 5% of all the cicles \n",
    "\n",
    "        gc_circles = model[\"GC\"]\n",
    "        nb_points = gc_circles.shape[0]\n",
    "        self.saturate_start_idxs = []\n",
    "        self.saturate_end_idxs = []\n",
    "\n",
    "        global_z = np.array([0, 0, 1])\n",
    "\n",
    "        eT = model[\"eT\"]\n",
    "        eN = model[\"eN\"]\n",
    "        eB = model[\"eB\"]\n",
    "        directrix = model[\"directrix\"]\n",
    "        Rc = model[\"Rc\"]\n",
    "\n",
    "      \n",
    "        if self.vertical_start:\n",
    "\n",
    "            tangent_at_start = eT[0,:] / np.linalg.norm(eT[0,:]) #\n",
    "            projected_vertical_start_tangent = self.project_onto_plane(tangent_at_start, global_z)\n",
    "            projected_vertical_start_tangent = projected_vertical_start_tangent / np.linalg.norm(projected_vertical_start_tangent)\n",
    "\n",
    "            eT[0,:] = projected_vertical_start_tangent\n",
    "\n",
    "            #verticalizing the first circle\n",
    "            gc_circles, eT,eN, eB = self.make_vertical(-1, gc_circles, Rc, eT, eN, eB, directrix)\n",
    "            self.saturate_start_idxs.append(0)\n",
    "            ### Here we have to ensure that the starting circle is orthogonal to the projected vector ::: Need to write a verticalizing function\n",
    "\n",
    "            directrix_at_start = directrix[0]\n",
    "            \n",
    "            for i in range(int(nb_points/20)):\n",
    "                circle = gc_circles[i+1,:,:]\n",
    "                for point in circle:\n",
    "                    vector_pointing_to_directrix = (directrix_at_start[0] - point[0], directrix_at_start[1] - point[1], directrix_at_start[2] - point[2])\n",
    "\n",
    "                    theta_val = self.calculate_angle_between_vectors(projected_vertical_start_tangent, vector_pointing_to_directrix) #in degrees\n",
    "\n",
    "                    if theta_val < 90: ##Intersection exist\n",
    "                        self.saturate_start_idxs.append(i+1)\n",
    "                        break\n",
    "                \n",
    "        if self.vertical_end:\n",
    "\n",
    "            tangent_at_end = eT[-1,:] / np.linalg.norm(eT[-1,:]) #\n",
    "            projected_vertical_end_tangent = self.project_onto_plane(tangent_at_end, global_z)\n",
    "            projected_vertical_end_tangent = projected_vertical_end_tangent / np.linalg.norm(projected_vertical_end_tangent)\n",
    "\n",
    "            eT[-1,:] = projected_vertical_end_tangent\n",
    "\n",
    "            #verticalizing the final circle\n",
    "            gc_circles, eT,eN, eB = self.make_vertical(-1, gc_circles, Rc, eT, eN, eB, directrix)\n",
    "            self.saturate_end_idxs.append(nb_points-1)\n",
    "\n",
    "\n",
    "            directrix_at_end = directrix[-1]\n",
    "\n",
    "            # print(\"Found a vertical end and the shape of gc_circles is\", gc_circles.shape)\n",
    "\n",
    "            for j in range(nb_points-1, int(19*nb_points/20), -1):\n",
    "                circle = gc_circles[j-1,:,:]\n",
    "                for point in circle:\n",
    "                    vector_pointing_to_directrix = (directrix_at_end[0] - point[0], directrix_at_end[1] - point[1], directrix_at_end[2] - point[2])\n",
    "\n",
    "                    theta_val = self.calculate_angle_between_vectors(projected_vertical_end_tangent, vector_pointing_to_directrix) #in degrees\n",
    "\n",
    "                    if theta_val < 90: ##Intersection exist\n",
    "                        # print(\"intersection exist\")\n",
    "                        self.saturate_end_idxs.append(j-1)\n",
    "                        break\n",
    "\n",
    "        if len(self.saturate_start_idxs) != 0: \n",
    "            for i in self.saturate_start_idxs:\n",
    "                print(\"saturate_start_idxs\", self.saturate_start_idxs)\n",
    "                gc_circles, eT,eN, eB = self.make_vertical(i, gc_circles, Rc, eT, eN, eB, directrix, location = \"start\")\n",
    "\n",
    "\n",
    "        if len(self.saturate_end_idxs) != 0: \n",
    "            for i in self.saturate_end_idxs:\n",
    "                print(\"saturate_end_idxs\", self.saturate_end_idxs)\n",
    "                gc_circles, eT,eN, eB = self.make_vertical(i, gc_circles, Rc, eT, eN, eB, directrix, location = \"end\")\n",
    "\n",
    "\n",
    "        if len(self.saturate_end_idxs) != 0 or len(self.saturate_start_idxs) != 0:\n",
    "            for i in range(0, nb_points-1):\n",
    "                optimized_normal2 = self.optimize_orientation_geometric(i, gc_circles, directrix, eT)\n",
    "                \n",
    "                gc_circles, eT, eN, eB = self.adjust_TNB(i+1, optimized_normal2, gc_circles, Rc, eT, eN, eB, directrix)\n",
    "\n",
    "\n",
    "        # Update model\n",
    "        model[\"GC\"] = gc_circles\n",
    "        model[\"eT\"] = eT\n",
    "        model[\"eN\"] = eN\n",
    "        model[\"eB\"] = eB\n",
    "\n",
    "        rospy.loginfo(f\"  Model saturation completed.\")\n",
    "         \n",
    "        return model"
   ]
  },
  {
   "cell_type": "code",
   "execution_count": null,
   "metadata": {},
   "outputs": [],
   "source": [
    "    def make_horizontal(self, i, gc_circles, Rc, eT, eN, eB, directrix, global_x, global_y, global_z):\n",
    "\n",
    "        T = eT[i,:]/np.linalg.norm(eT[i,:])\n",
    "        cos_angle_z = np.clip(np.dot(T, global_z), -1.0, 1.0)\n",
    "        angle_z = np.arccos(cos_angle_z)\n",
    "        angle_z = np.degrees(angle_z)\n",
    "\n",
    "        if angle_z > 90: \n",
    "            T = -global_z\n",
    "        else: \n",
    "            T = global_z\n",
    "        \n",
    "        # Redefine GC\n",
    "        gc_circles[i,:,:] = circular_GC(np.array([directrix[i,:]]), np.array([global_x]), \n",
    "                                        np.array([global_y]), np.array([Rc[i]]))\n",
    "        \n",
    "        # Change N and B\n",
    "        N = self.project_onto_plane(eN[i,:], global_z)\n",
    "\n",
    "\n",
    "        # Normalise\n",
    "        T = T/np.linalg.norm(T)\n",
    "        N = N/np.linalg.norm(N)\n",
    "        B = np.cross(N, T)\n",
    "        B = B/np.linalg.norm(B)\n",
    "\n",
    "        # Assign\n",
    "        eT[i,:] = T\n",
    "        eN[i,:] = N\n",
    "        eB[i,:] = B\n",
    "\n",
    "        return gc_circles, eT, eN, eB"
   ]
  }
 ],
 "metadata": {
  "kernelspec": {
   "display_name": "Python 3",
   "language": "python",
   "name": "python3"
  },
  "language_info": {
   "codemirror_mode": {
    "name": "ipython",
    "version": 3
   },
   "file_extension": ".py",
   "mimetype": "text/x-python",
   "name": "python",
   "nbconvert_exporter": "python",
   "pygments_lexer": "ipython3",
   "version": "3.8.10"
  }
 },
 "nbformat": 4,
 "nbformat_minor": 2
}
